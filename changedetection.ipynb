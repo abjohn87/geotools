{
 "cells": [
  {
   "attachments": {},
   "cell_type": "markdown",
   "metadata": {},
   "source": [
    "Notes:\n",
    "\n",
    "Example Dataset: MODIS LULC 500m (2001-2021)\n",
    "link: https://developers.google.com/earth-engine/datasets/catalog/USFS_GTAC_LCMS_v2021-7#bands"
   ]
  },
  {
   "cell_type": "code",
   "execution_count": 2,
   "metadata": {},
   "outputs": [],
   "source": [
    "import geemap\n",
    "import ee\n",
    "Map = geemap.Map()\n"
   ]
  },
  {
   "cell_type": "code",
   "execution_count": 7,
   "metadata": {},
   "outputs": [],
   "source": [
    "img_pre = (ee.ImageCollection('USFS/GTAC/LCMS/v2021-7')\n",
    "            .select('Land_Use')\n",
    "            .filterDate('1985', '1986')\n",
    "            .first()\n",
    ")\n",
    "\n",
    "img_pre_urban = img_pre.eq(2).updateMask(img_pre.eq(2))\n",
    "\n",
    "\n",
    "lulc_vis = {\n",
    "    'min': 1,\n",
    "    'max': 7,\n",
    "    'palette': ['#efff6b', '#ff2ff8', '#1b9d0c', '#97ffff', '#a1a1a1', '#c2b34a', '#1b1716'],\n",
    "}\n",
    "\n",
    "\n",
    "Map.setCenter(-98.58, 38.14, 4)\n",
    "\n",
    "Map.addLayer(img_pre, lulc_vis, 'IMG Pre', False)\n",
    "Map.addLayer(img_pre_urban, {'palette': 'green'}, 'IMG Pre Urban')"
   ]
  },
  {
   "cell_type": "code",
   "execution_count": 8,
   "metadata": {},
   "outputs": [],
   "source": [
    "img_post = (ee.ImageCollection('USFS/GTAC/LCMS/v2021-7')\n",
    "            .select('Land_Use')\n",
    "            .filterDate('2020', '2021')\n",
    "            .first()\n",
    ")\n",
    "\n",
    "img_post_urban = img_post.eq(2).updateMask(img_post.eq(2))\n",
    "\n",
    "Map.addLayer(img_post, lulc_vis, 'IMG Post', False)\n",
    "Map.addLayer(img_post_urban, {'palette':'orange'}, 'IMG Post Urban')"
   ]
  },
  {
   "cell_type": "code",
   "execution_count": 11,
   "metadata": {},
   "outputs": [],
   "source": [
    "urban_change = ee.Image(img_pre_urban).subtract(ee.Image(img_post_urban))\n",
    "Map.addLayer(urban_change, {'palette':'red'}, 'Urban Change')"
   ]
  },
  {
   "cell_type": "code",
   "execution_count": null,
   "metadata": {},
   "outputs": [],
   "source": [
    "Map"
   ]
  },
  {
   "cell_type": "code",
   "execution_count": null,
   "metadata": {},
   "outputs": [],
   "source": []
  },
  {
   "cell_type": "code",
   "execution_count": null,
   "metadata": {},
   "outputs": [],
   "source": []
  },
  {
   "cell_type": "code",
   "execution_count": null,
   "metadata": {},
   "outputs": [],
   "source": []
  },
  {
   "cell_type": "code",
   "execution_count": null,
   "metadata": {},
   "outputs": [],
   "source": []
  }
 ],
 "metadata": {
  "kernelspec": {
   "display_name": "geo",
   "language": "python",
   "name": "python3"
  },
  "language_info": {
   "codemirror_mode": {
    "name": "ipython",
    "version": 3
   },
   "file_extension": ".py",
   "mimetype": "text/x-python",
   "name": "python",
   "nbconvert_exporter": "python",
   "pygments_lexer": "ipython3",
   "version": "3.10.11"
  },
  "orig_nbformat": 4
 },
 "nbformat": 4,
 "nbformat_minor": 2
}
