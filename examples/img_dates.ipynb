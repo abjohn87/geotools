{
 "cells": [
  {
   "cell_type": "code",
   "execution_count": 5,
   "metadata": {},
   "outputs": [],
   "source": [
    "\n",
    "# code as function\n",
    "def img_acq_dates(startDate, endDate, aoi, export, s1, s2, l8, l9):\n",
    "    \"\"\"\n",
    "    Generates a chart of the availability of images in a collection.\t\n",
    "    \n",
    "    ...\n",
    "    \n",
    "    Args:\n",
    "    ----------\n",
    "        startDate: The start date of the image collection. Format: YYYY-MM-DD\n",
    "        endDate: The end date of the image collection. Format: YYYY-MM-DD\n",
    "        aoi: The area of interest.\n",
    "        export: If True, exports the plotly figure as html and png.\n",
    "        s1: If True, includes Sentinel-1 in the plot.\n",
    "        s2: If True, includes Sentinel-2 in the plot.\n",
    "        l8: If True, includes Landsat-8 in the plot.\n",
    "        l9: If True, includes Landsat-9 in the plot.\n",
    "    \n",
    "    Package Requirements:\n",
    "    ---------------------\n",
    "        ee, matplotlib, seaborn, pandas, numpy, plotly\n",
    "    Returns:\n",
    "    ----------\n",
    "        A chart of the availability of images in a collection.\n",
    "        Exported as an interactive HTML file, png, and data csv.\n",
    "\n",
    "    Note:\n",
    "    1)  To export plotly plot as png, kaleido package is required.\n",
    "        currently (22-07-2021) kaleido version 0.1.0.post1 is the only version that works with plotly. The newer version has bug, so we need to install the older version.\n",
    "        The code to downgrade and install working version is already included in the code.\n",
    "        \n",
    "    \n",
    "    2)  User need to authenticate their google account to access Google Earth Engine.\n",
    "        To authenticate, uncomment the ee.Authenticate() line and run the code.\n",
    "\n",
    "    \"\"\"\n",
    "    \n",
    "    # Function to get dates for image collections\n",
    "    \n",
    "    import ee\n",
    "    import matplotlib.pyplot as plt\n",
    "    import seaborn as sns\n",
    "    import pandas as pd\n",
    "    import numpy as np\n",
    "    import plotly.express as px\n",
    "    \n",
    "    try:\n",
    "        # Try to initialize Earth Engine\n",
    "        ee.Initialize()\n",
    "    except Exception as e:\n",
    "        # If Earth Engine is not authenticated, authenticate it\n",
    "        ee.Authenticate()\n",
    "        ee.Initialize()\n",
    "    if export == True:\n",
    "        import pkg_resources; pkg_resources.require(\"kaleido==0.1.0.post1\") or subprocess.call([\"pip\", \"install\", \"--upgrade\", \"kaleido==0.1.0.post1\"])\n",
    "\n",
    "        \n",
    "    def get_dates(collection, name):\n",
    "        \"\"\"Generates a chart of the availability of images in a collection.\n",
    "\n",
    "        Args:\n",
    "            collection: The Earth Engine image collection.\n",
    "\n",
    "        Returns:\n",
    "            A dictionary of the availability of images in the collection.\n",
    "        \"\"\"\n",
    "\n",
    "        # Get the list of all available dates.\n",
    "        date_range = collection.reduceColumns(ee.Reducer.toList(), [\"system:time_start\"])\n",
    "        date_range = date_range.values().get(0)\n",
    "\n",
    "        # Convert the list of dates to a list of strings.\n",
    "        date_range = ee.List(date_range).map(lambda n: ee.Date(n).format(\"YYYY-MM-dd\"))\n",
    "\n",
    "        # Create a frequency histogram of the available dates.\n",
    "        availability_dict = date_range.reduce(ee.Reducer.frequencyHistogram())\n",
    "\n",
    "        # Convert the frequency histogram to a dictionary.\n",
    "        availability_dict = ee.Dictionary(availability_dict).getInfo()\n",
    "\n",
    "        for value in availability_dict:\n",
    "            availability_dict[value] = name\n",
    "\n",
    "        return availability_dict\n",
    "    all_dicts = []\n",
    "    if s1 == True:\n",
    "        # Function to get dates for Sentinel-2\n",
    "        def get_sentinel1_dates():\n",
    "            sentinel1_collection = ee.ImageCollection(\"COPERNICUS/S1_GRD\")\\\n",
    "                                    .filterDate(startDate, endDate)\\\n",
    "                                        .filterBounds(aoi)\\\n",
    "                                        .select('VV')\n",
    "\n",
    "            return get_dates(sentinel1_collection, 'Sentinel-1')\n",
    "        # Get dates for Sentinel-1\n",
    "        sentinel1_data = get_sentinel1_dates()\n",
    "        all_dicts.append(sentinel1_data)\n",
    "    if s2 == True:\n",
    "        # Function to get dates for Sentinel-2 surface reflectance\n",
    "        def get_sentinel2_dates():\n",
    "            sentinel2_collection = ee.ImageCollection(\"COPERNICUS/S2_SR_HARMONIZED\")\\\n",
    "                                    .filterDate(startDate, endDate)\\\n",
    "                                        .filterBounds(aoi)\\\n",
    "                                            .select('B1')\n",
    "\n",
    "            return get_dates(sentinel2_collection, 'Sentinel-2')\n",
    "        # Get dates for Sentinel-2\n",
    "        sentinel2_data = get_sentinel2_dates()\n",
    "        all_dicts.append(sentinel2_data)\n",
    "    if l8 == True:\n",
    "        # Function to get dates for Landsat-8\n",
    "        def get_landsat8_dates():\n",
    "            landsat8_collection = ee.ImageCollection(\"LANDSAT/LC08/C02/T1_L2\")\\\n",
    "                                    .filterDate(startDate, endDate)\\\n",
    "                                        .filterBounds(aoi)\\\n",
    "                                            .select('SR_B1')\n",
    "            return get_dates(landsat8_collection, 'Landsat-8')\n",
    "            # Get dates for Landsat-8\n",
    "        landsat8_data = get_landsat8_dates()\n",
    "        all_dicts.append(landsat8_data)\n",
    "    if l9 == True:\n",
    "        # Function to get dates for Landsat-9\n",
    "        def get_landsat9_dates():\n",
    "            landsat9_collection = ee.ImageCollection(\"LANDSAT/LC09/C02/T1_L2\")\\\n",
    "                                    .filterDate(startDate, endDate)\\\n",
    "                                        .filterBounds(aoi)\n",
    "            return get_dates(landsat9_collection, 'Landsat-9')\n",
    "        # Get dates for Landsat-9\n",
    "        landsat9_data = get_landsat9_dates()\n",
    "        all_dicts.append(landsat9_data)\n",
    "\n",
    "    # Create an empty dictionary to hold the combined data\n",
    "    combined_dict = {}\n",
    "\n",
    "    # Iterate over each dictionary in the list and add its items to the combined_dict\n",
    "    for curr_dict in all_dicts:\n",
    "        for date, code in curr_dict.items():\n",
    "            # Check if the date is already in the combined_dict\n",
    "            if date not in combined_dict:\n",
    "                combined_dict[date] = code\n",
    "\n",
    "    # If you want to convert it back to a dictionary and sort by date, you can do this:\n",
    "    sorted_combined_dict = dict(sorted(combined_dict.items()))\n",
    "\n",
    "    # Convert the dictionary to a Pandas DataFrame\n",
    "    df = pd.DataFrame(list(combined_dict.items()), columns=['Date', 'Satellite'])\n",
    "    \n",
    "\n",
    "\n",
    "    # Plot using Plotly express line chart\n",
    "    fig = px.line(df, x='Date', y='Satellite', line_group='Satellite', markers=True, color='Satellite',\n",
    "                  title='Satellite Image Acquisition Dates from ' + startDate + ' to ' + endDate)\n",
    "    fig.update_layout(xaxis_title='Date', xaxis_tickangle=-45)\n",
    "    fig.show()\n",
    "    \n",
    "    if export == True:\n",
    "        \n",
    "        # export plotly figure as html\n",
    "        # Export as an interactive HTML file\n",
    "        fig.write_html(f'satellite_acquisition_{startDate}_{endDate}.html')\n",
    "        fig.write_image(f'satellite_acquisition_{startDate}_{endDate}.png', width=1200, height=600, scale=2)\n",
    "        \n",
    "        # export data as csv\n",
    "        df.to_csv(f'satellite_acquisition_{startDate}_{endDate}.csv', index=False)"
   ]
  },
  {
   "cell_type": "code",
   "execution_count": 6,
   "metadata": {},
   "outputs": [
    {
     "data": {
      "application/vnd.plotly.v1+json": {
       "config": {
        "plotlyServerURL": "https://plot.ly"
       },
       "data": [
        {
         "hovertemplate": "Satellite=%{y}<br>Date=%{x}<extra></extra>",
         "legendgroup": "Sentinel-1",
         "line": {
          "color": "#636efa",
          "dash": "solid"
         },
         "marker": {
          "symbol": "circle"
         },
         "mode": "markers+lines",
         "name": "Sentinel-1",
         "orientation": "v",
         "showlegend": true,
         "type": "scatter",
         "x": [
          "2022-01-02",
          "2022-01-11",
          "2022-01-14",
          "2022-01-23",
          "2022-01-26",
          "2022-02-04",
          "2022-02-07",
          "2022-02-16",
          "2022-02-19",
          "2022-02-28",
          "2022-03-03",
          "2022-03-12",
          "2022-03-15",
          "2022-03-24",
          "2022-03-27",
          "2022-04-05",
          "2022-04-08",
          "2022-04-17",
          "2022-04-20",
          "2022-04-29",
          "2022-05-02",
          "2022-05-11",
          "2022-05-14",
          "2022-05-23",
          "2022-05-26",
          "2022-06-04",
          "2022-06-07",
          "2022-06-16",
          "2022-06-19",
          "2022-06-28",
          "2022-07-01",
          "2022-07-10",
          "2022-07-13",
          "2022-07-22",
          "2022-07-25",
          "2022-08-03",
          "2022-08-06",
          "2022-08-15",
          "2022-08-18",
          "2022-08-27",
          "2022-08-30",
          "2022-09-08",
          "2022-09-11",
          "2022-09-20",
          "2022-09-23",
          "2022-10-02",
          "2022-10-05",
          "2022-10-14",
          "2022-10-17",
          "2022-10-26",
          "2022-10-29",
          "2022-11-07",
          "2022-11-10",
          "2022-11-19",
          "2022-11-22",
          "2022-12-01",
          "2022-12-04",
          "2022-12-13",
          "2022-12-16",
          "2022-12-25",
          "2022-12-28"
         ],
         "xaxis": "x",
         "y": [
          "Sentinel-1",
          "Sentinel-1",
          "Sentinel-1",
          "Sentinel-1",
          "Sentinel-1",
          "Sentinel-1",
          "Sentinel-1",
          "Sentinel-1",
          "Sentinel-1",
          "Sentinel-1",
          "Sentinel-1",
          "Sentinel-1",
          "Sentinel-1",
          "Sentinel-1",
          "Sentinel-1",
          "Sentinel-1",
          "Sentinel-1",
          "Sentinel-1",
          "Sentinel-1",
          "Sentinel-1",
          "Sentinel-1",
          "Sentinel-1",
          "Sentinel-1",
          "Sentinel-1",
          "Sentinel-1",
          "Sentinel-1",
          "Sentinel-1",
          "Sentinel-1",
          "Sentinel-1",
          "Sentinel-1",
          "Sentinel-1",
          "Sentinel-1",
          "Sentinel-1",
          "Sentinel-1",
          "Sentinel-1",
          "Sentinel-1",
          "Sentinel-1",
          "Sentinel-1",
          "Sentinel-1",
          "Sentinel-1",
          "Sentinel-1",
          "Sentinel-1",
          "Sentinel-1",
          "Sentinel-1",
          "Sentinel-1",
          "Sentinel-1",
          "Sentinel-1",
          "Sentinel-1",
          "Sentinel-1",
          "Sentinel-1",
          "Sentinel-1",
          "Sentinel-1",
          "Sentinel-1",
          "Sentinel-1",
          "Sentinel-1",
          "Sentinel-1",
          "Sentinel-1",
          "Sentinel-1",
          "Sentinel-1",
          "Sentinel-1",
          "Sentinel-1"
         ],
         "yaxis": "y"
        },
        {
         "hovertemplate": "Satellite=%{y}<br>Date=%{x}<extra></extra>",
         "legendgroup": "Sentinel-2",
         "line": {
          "color": "#EF553B",
          "dash": "solid"
         },
         "marker": {
          "symbol": "circle"
         },
         "mode": "markers+lines",
         "name": "Sentinel-2",
         "orientation": "v",
         "showlegend": true,
         "type": "scatter",
         "x": [
          "2022-01-01",
          "2022-01-03",
          "2022-01-06",
          "2022-01-08",
          "2022-01-13",
          "2022-01-16",
          "2022-01-18",
          "2022-01-21",
          "2022-01-28",
          "2022-01-31",
          "2022-02-02",
          "2022-02-05",
          "2022-02-10",
          "2022-02-12",
          "2022-02-15",
          "2022-02-17",
          "2022-02-20",
          "2022-02-22",
          "2022-02-25",
          "2022-02-27",
          "2022-03-02",
          "2022-03-04",
          "2022-03-07",
          "2022-03-09",
          "2022-03-14",
          "2022-03-17",
          "2022-03-19",
          "2022-03-22",
          "2022-03-29",
          "2022-04-01",
          "2022-04-03",
          "2022-04-06",
          "2022-04-11",
          "2022-04-13",
          "2022-04-16",
          "2022-04-18",
          "2022-04-21",
          "2022-04-23",
          "2022-04-26",
          "2022-04-28",
          "2022-05-01",
          "2022-05-03",
          "2022-05-06",
          "2022-05-08",
          "2022-05-13",
          "2022-05-16",
          "2022-05-18",
          "2022-05-21",
          "2022-05-28",
          "2022-05-31",
          "2022-06-02",
          "2022-06-05",
          "2022-06-10",
          "2022-06-12",
          "2022-06-15",
          "2022-06-17",
          "2022-06-20",
          "2022-06-22",
          "2022-06-25",
          "2022-06-27",
          "2022-06-30",
          "2022-07-02",
          "2022-07-05",
          "2022-07-07",
          "2022-07-12",
          "2022-07-15",
          "2022-07-17",
          "2022-07-20",
          "2022-07-27",
          "2022-07-30",
          "2022-08-01",
          "2022-08-04",
          "2022-08-09",
          "2022-08-11",
          "2022-08-14",
          "2022-08-16",
          "2022-08-19",
          "2022-08-21",
          "2022-08-24",
          "2022-08-26",
          "2022-08-29",
          "2022-08-31",
          "2022-09-03",
          "2022-09-05",
          "2022-09-10",
          "2022-09-13",
          "2022-09-15",
          "2022-09-18",
          "2022-09-25",
          "2022-09-28",
          "2022-09-30",
          "2022-10-03",
          "2022-10-08",
          "2022-10-10",
          "2022-10-13",
          "2022-10-15",
          "2022-10-18",
          "2022-10-20",
          "2022-10-23",
          "2022-10-25",
          "2022-10-28",
          "2022-10-30",
          "2022-11-02",
          "2022-11-04",
          "2022-11-12",
          "2022-11-14",
          "2022-11-17",
          "2022-11-24",
          "2022-11-27",
          "2022-11-29",
          "2022-12-02",
          "2022-12-07",
          "2022-12-09",
          "2022-12-12",
          "2022-12-17",
          "2022-12-19",
          "2022-12-22",
          "2022-12-24",
          "2022-12-27",
          "2022-12-29"
         ],
         "xaxis": "x",
         "y": [
          "Sentinel-2",
          "Sentinel-2",
          "Sentinel-2",
          "Sentinel-2",
          "Sentinel-2",
          "Sentinel-2",
          "Sentinel-2",
          "Sentinel-2",
          "Sentinel-2",
          "Sentinel-2",
          "Sentinel-2",
          "Sentinel-2",
          "Sentinel-2",
          "Sentinel-2",
          "Sentinel-2",
          "Sentinel-2",
          "Sentinel-2",
          "Sentinel-2",
          "Sentinel-2",
          "Sentinel-2",
          "Sentinel-2",
          "Sentinel-2",
          "Sentinel-2",
          "Sentinel-2",
          "Sentinel-2",
          "Sentinel-2",
          "Sentinel-2",
          "Sentinel-2",
          "Sentinel-2",
          "Sentinel-2",
          "Sentinel-2",
          "Sentinel-2",
          "Sentinel-2",
          "Sentinel-2",
          "Sentinel-2",
          "Sentinel-2",
          "Sentinel-2",
          "Sentinel-2",
          "Sentinel-2",
          "Sentinel-2",
          "Sentinel-2",
          "Sentinel-2",
          "Sentinel-2",
          "Sentinel-2",
          "Sentinel-2",
          "Sentinel-2",
          "Sentinel-2",
          "Sentinel-2",
          "Sentinel-2",
          "Sentinel-2",
          "Sentinel-2",
          "Sentinel-2",
          "Sentinel-2",
          "Sentinel-2",
          "Sentinel-2",
          "Sentinel-2",
          "Sentinel-2",
          "Sentinel-2",
          "Sentinel-2",
          "Sentinel-2",
          "Sentinel-2",
          "Sentinel-2",
          "Sentinel-2",
          "Sentinel-2",
          "Sentinel-2",
          "Sentinel-2",
          "Sentinel-2",
          "Sentinel-2",
          "Sentinel-2",
          "Sentinel-2",
          "Sentinel-2",
          "Sentinel-2",
          "Sentinel-2",
          "Sentinel-2",
          "Sentinel-2",
          "Sentinel-2",
          "Sentinel-2",
          "Sentinel-2",
          "Sentinel-2",
          "Sentinel-2",
          "Sentinel-2",
          "Sentinel-2",
          "Sentinel-2",
          "Sentinel-2",
          "Sentinel-2",
          "Sentinel-2",
          "Sentinel-2",
          "Sentinel-2",
          "Sentinel-2",
          "Sentinel-2",
          "Sentinel-2",
          "Sentinel-2",
          "Sentinel-2",
          "Sentinel-2",
          "Sentinel-2",
          "Sentinel-2",
          "Sentinel-2",
          "Sentinel-2",
          "Sentinel-2",
          "Sentinel-2",
          "Sentinel-2",
          "Sentinel-2",
          "Sentinel-2",
          "Sentinel-2",
          "Sentinel-2",
          "Sentinel-2",
          "Sentinel-2",
          "Sentinel-2",
          "Sentinel-2",
          "Sentinel-2",
          "Sentinel-2",
          "Sentinel-2",
          "Sentinel-2",
          "Sentinel-2",
          "Sentinel-2",
          "Sentinel-2",
          "Sentinel-2",
          "Sentinel-2",
          "Sentinel-2",
          "Sentinel-2"
         ],
         "yaxis": "y"
        },
        {
         "hovertemplate": "Satellite=%{y}<br>Date=%{x}<extra></extra>",
         "legendgroup": "Landsat-8",
         "line": {
          "color": "#00cc96",
          "dash": "solid"
         },
         "marker": {
          "symbol": "circle"
         },
         "mode": "markers+lines",
         "name": "Landsat-8",
         "orientation": "v",
         "showlegend": true,
         "type": "scatter",
         "x": [
          "2022-01-15",
          "2022-01-24",
          "2022-02-09",
          "2022-03-13",
          "2022-03-20",
          "2022-04-14",
          "2022-04-30",
          "2022-05-07",
          "2022-06-01",
          "2022-06-08",
          "2022-06-24",
          "2022-07-19",
          "2022-09-12",
          "2022-09-21",
          "2022-10-07",
          "2022-11-08",
          "2022-11-15",
          "2022-12-10",
          "2022-12-26"
         ],
         "xaxis": "x",
         "y": [
          "Landsat-8",
          "Landsat-8",
          "Landsat-8",
          "Landsat-8",
          "Landsat-8",
          "Landsat-8",
          "Landsat-8",
          "Landsat-8",
          "Landsat-8",
          "Landsat-8",
          "Landsat-8",
          "Landsat-8",
          "Landsat-8",
          "Landsat-8",
          "Landsat-8",
          "Landsat-8",
          "Landsat-8",
          "Landsat-8",
          "Landsat-8"
         ],
         "yaxis": "y"
        },
        {
         "hovertemplate": "Satellite=%{y}<br>Date=%{x}<extra></extra>",
         "legendgroup": "Landsat-9",
         "line": {
          "color": "#ab63fa",
          "dash": "solid"
         },
         "marker": {
          "symbol": "circle"
         },
         "mode": "markers+lines",
         "name": "Landsat-9",
         "orientation": "v",
         "showlegend": true,
         "type": "scatter",
         "x": [
          "2022-01-07",
          "2022-02-01",
          "2022-02-08",
          "2022-02-24",
          "2022-03-05",
          "2022-03-21",
          "2022-03-28",
          "2022-04-22",
          "2022-05-15",
          "2022-05-24",
          "2022-06-09",
          "2022-07-18",
          "2022-08-28",
          "2022-09-04",
          "2022-09-29",
          "2022-10-06",
          "2022-10-22",
          "2022-10-31",
          "2022-11-16",
          "2022-11-23",
          "2022-12-18"
         ],
         "xaxis": "x",
         "y": [
          "Landsat-9",
          "Landsat-9",
          "Landsat-9",
          "Landsat-9",
          "Landsat-9",
          "Landsat-9",
          "Landsat-9",
          "Landsat-9",
          "Landsat-9",
          "Landsat-9",
          "Landsat-9",
          "Landsat-9",
          "Landsat-9",
          "Landsat-9",
          "Landsat-9",
          "Landsat-9",
          "Landsat-9",
          "Landsat-9",
          "Landsat-9",
          "Landsat-9",
          "Landsat-9"
         ],
         "yaxis": "y"
        }
       ],
       "layout": {
        "legend": {
         "title": {
          "text": "Satellite"
         },
         "tracegroupgap": 0
        },
        "template": {
         "data": {
          "bar": [
           {
            "error_x": {
             "color": "#2a3f5f"
            },
            "error_y": {
             "color": "#2a3f5f"
            },
            "marker": {
             "line": {
              "color": "#E5ECF6",
              "width": 0.5
             },
             "pattern": {
              "fillmode": "overlay",
              "size": 10,
              "solidity": 0.2
             }
            },
            "type": "bar"
           }
          ],
          "barpolar": [
           {
            "marker": {
             "line": {
              "color": "#E5ECF6",
              "width": 0.5
             },
             "pattern": {
              "fillmode": "overlay",
              "size": 10,
              "solidity": 0.2
             }
            },
            "type": "barpolar"
           }
          ],
          "carpet": [
           {
            "aaxis": {
             "endlinecolor": "#2a3f5f",
             "gridcolor": "white",
             "linecolor": "white",
             "minorgridcolor": "white",
             "startlinecolor": "#2a3f5f"
            },
            "baxis": {
             "endlinecolor": "#2a3f5f",
             "gridcolor": "white",
             "linecolor": "white",
             "minorgridcolor": "white",
             "startlinecolor": "#2a3f5f"
            },
            "type": "carpet"
           }
          ],
          "choropleth": [
           {
            "colorbar": {
             "outlinewidth": 0,
             "ticks": ""
            },
            "type": "choropleth"
           }
          ],
          "contour": [
           {
            "colorbar": {
             "outlinewidth": 0,
             "ticks": ""
            },
            "colorscale": [
             [
              0,
              "#0d0887"
             ],
             [
              0.1111111111111111,
              "#46039f"
             ],
             [
              0.2222222222222222,
              "#7201a8"
             ],
             [
              0.3333333333333333,
              "#9c179e"
             ],
             [
              0.4444444444444444,
              "#bd3786"
             ],
             [
              0.5555555555555556,
              "#d8576b"
             ],
             [
              0.6666666666666666,
              "#ed7953"
             ],
             [
              0.7777777777777778,
              "#fb9f3a"
             ],
             [
              0.8888888888888888,
              "#fdca26"
             ],
             [
              1,
              "#f0f921"
             ]
            ],
            "type": "contour"
           }
          ],
          "contourcarpet": [
           {
            "colorbar": {
             "outlinewidth": 0,
             "ticks": ""
            },
            "type": "contourcarpet"
           }
          ],
          "heatmap": [
           {
            "colorbar": {
             "outlinewidth": 0,
             "ticks": ""
            },
            "colorscale": [
             [
              0,
              "#0d0887"
             ],
             [
              0.1111111111111111,
              "#46039f"
             ],
             [
              0.2222222222222222,
              "#7201a8"
             ],
             [
              0.3333333333333333,
              "#9c179e"
             ],
             [
              0.4444444444444444,
              "#bd3786"
             ],
             [
              0.5555555555555556,
              "#d8576b"
             ],
             [
              0.6666666666666666,
              "#ed7953"
             ],
             [
              0.7777777777777778,
              "#fb9f3a"
             ],
             [
              0.8888888888888888,
              "#fdca26"
             ],
             [
              1,
              "#f0f921"
             ]
            ],
            "type": "heatmap"
           }
          ],
          "heatmapgl": [
           {
            "colorbar": {
             "outlinewidth": 0,
             "ticks": ""
            },
            "colorscale": [
             [
              0,
              "#0d0887"
             ],
             [
              0.1111111111111111,
              "#46039f"
             ],
             [
              0.2222222222222222,
              "#7201a8"
             ],
             [
              0.3333333333333333,
              "#9c179e"
             ],
             [
              0.4444444444444444,
              "#bd3786"
             ],
             [
              0.5555555555555556,
              "#d8576b"
             ],
             [
              0.6666666666666666,
              "#ed7953"
             ],
             [
              0.7777777777777778,
              "#fb9f3a"
             ],
             [
              0.8888888888888888,
              "#fdca26"
             ],
             [
              1,
              "#f0f921"
             ]
            ],
            "type": "heatmapgl"
           }
          ],
          "histogram": [
           {
            "marker": {
             "pattern": {
              "fillmode": "overlay",
              "size": 10,
              "solidity": 0.2
             }
            },
            "type": "histogram"
           }
          ],
          "histogram2d": [
           {
            "colorbar": {
             "outlinewidth": 0,
             "ticks": ""
            },
            "colorscale": [
             [
              0,
              "#0d0887"
             ],
             [
              0.1111111111111111,
              "#46039f"
             ],
             [
              0.2222222222222222,
              "#7201a8"
             ],
             [
              0.3333333333333333,
              "#9c179e"
             ],
             [
              0.4444444444444444,
              "#bd3786"
             ],
             [
              0.5555555555555556,
              "#d8576b"
             ],
             [
              0.6666666666666666,
              "#ed7953"
             ],
             [
              0.7777777777777778,
              "#fb9f3a"
             ],
             [
              0.8888888888888888,
              "#fdca26"
             ],
             [
              1,
              "#f0f921"
             ]
            ],
            "type": "histogram2d"
           }
          ],
          "histogram2dcontour": [
           {
            "colorbar": {
             "outlinewidth": 0,
             "ticks": ""
            },
            "colorscale": [
             [
              0,
              "#0d0887"
             ],
             [
              0.1111111111111111,
              "#46039f"
             ],
             [
              0.2222222222222222,
              "#7201a8"
             ],
             [
              0.3333333333333333,
              "#9c179e"
             ],
             [
              0.4444444444444444,
              "#bd3786"
             ],
             [
              0.5555555555555556,
              "#d8576b"
             ],
             [
              0.6666666666666666,
              "#ed7953"
             ],
             [
              0.7777777777777778,
              "#fb9f3a"
             ],
             [
              0.8888888888888888,
              "#fdca26"
             ],
             [
              1,
              "#f0f921"
             ]
            ],
            "type": "histogram2dcontour"
           }
          ],
          "mesh3d": [
           {
            "colorbar": {
             "outlinewidth": 0,
             "ticks": ""
            },
            "type": "mesh3d"
           }
          ],
          "parcoords": [
           {
            "line": {
             "colorbar": {
              "outlinewidth": 0,
              "ticks": ""
             }
            },
            "type": "parcoords"
           }
          ],
          "pie": [
           {
            "automargin": true,
            "type": "pie"
           }
          ],
          "scatter": [
           {
            "fillpattern": {
             "fillmode": "overlay",
             "size": 10,
             "solidity": 0.2
            },
            "type": "scatter"
           }
          ],
          "scatter3d": [
           {
            "line": {
             "colorbar": {
              "outlinewidth": 0,
              "ticks": ""
             }
            },
            "marker": {
             "colorbar": {
              "outlinewidth": 0,
              "ticks": ""
             }
            },
            "type": "scatter3d"
           }
          ],
          "scattercarpet": [
           {
            "marker": {
             "colorbar": {
              "outlinewidth": 0,
              "ticks": ""
             }
            },
            "type": "scattercarpet"
           }
          ],
          "scattergeo": [
           {
            "marker": {
             "colorbar": {
              "outlinewidth": 0,
              "ticks": ""
             }
            },
            "type": "scattergeo"
           }
          ],
          "scattergl": [
           {
            "marker": {
             "colorbar": {
              "outlinewidth": 0,
              "ticks": ""
             }
            },
            "type": "scattergl"
           }
          ],
          "scattermapbox": [
           {
            "marker": {
             "colorbar": {
              "outlinewidth": 0,
              "ticks": ""
             }
            },
            "type": "scattermapbox"
           }
          ],
          "scatterpolar": [
           {
            "marker": {
             "colorbar": {
              "outlinewidth": 0,
              "ticks": ""
             }
            },
            "type": "scatterpolar"
           }
          ],
          "scatterpolargl": [
           {
            "marker": {
             "colorbar": {
              "outlinewidth": 0,
              "ticks": ""
             }
            },
            "type": "scatterpolargl"
           }
          ],
          "scatterternary": [
           {
            "marker": {
             "colorbar": {
              "outlinewidth": 0,
              "ticks": ""
             }
            },
            "type": "scatterternary"
           }
          ],
          "surface": [
           {
            "colorbar": {
             "outlinewidth": 0,
             "ticks": ""
            },
            "colorscale": [
             [
              0,
              "#0d0887"
             ],
             [
              0.1111111111111111,
              "#46039f"
             ],
             [
              0.2222222222222222,
              "#7201a8"
             ],
             [
              0.3333333333333333,
              "#9c179e"
             ],
             [
              0.4444444444444444,
              "#bd3786"
             ],
             [
              0.5555555555555556,
              "#d8576b"
             ],
             [
              0.6666666666666666,
              "#ed7953"
             ],
             [
              0.7777777777777778,
              "#fb9f3a"
             ],
             [
              0.8888888888888888,
              "#fdca26"
             ],
             [
              1,
              "#f0f921"
             ]
            ],
            "type": "surface"
           }
          ],
          "table": [
           {
            "cells": {
             "fill": {
              "color": "#EBF0F8"
             },
             "line": {
              "color": "white"
             }
            },
            "header": {
             "fill": {
              "color": "#C8D4E3"
             },
             "line": {
              "color": "white"
             }
            },
            "type": "table"
           }
          ]
         },
         "layout": {
          "annotationdefaults": {
           "arrowcolor": "#2a3f5f",
           "arrowhead": 0,
           "arrowwidth": 1
          },
          "autotypenumbers": "strict",
          "coloraxis": {
           "colorbar": {
            "outlinewidth": 0,
            "ticks": ""
           }
          },
          "colorscale": {
           "diverging": [
            [
             0,
             "#8e0152"
            ],
            [
             0.1,
             "#c51b7d"
            ],
            [
             0.2,
             "#de77ae"
            ],
            [
             0.3,
             "#f1b6da"
            ],
            [
             0.4,
             "#fde0ef"
            ],
            [
             0.5,
             "#f7f7f7"
            ],
            [
             0.6,
             "#e6f5d0"
            ],
            [
             0.7,
             "#b8e186"
            ],
            [
             0.8,
             "#7fbc41"
            ],
            [
             0.9,
             "#4d9221"
            ],
            [
             1,
             "#276419"
            ]
           ],
           "sequential": [
            [
             0,
             "#0d0887"
            ],
            [
             0.1111111111111111,
             "#46039f"
            ],
            [
             0.2222222222222222,
             "#7201a8"
            ],
            [
             0.3333333333333333,
             "#9c179e"
            ],
            [
             0.4444444444444444,
             "#bd3786"
            ],
            [
             0.5555555555555556,
             "#d8576b"
            ],
            [
             0.6666666666666666,
             "#ed7953"
            ],
            [
             0.7777777777777778,
             "#fb9f3a"
            ],
            [
             0.8888888888888888,
             "#fdca26"
            ],
            [
             1,
             "#f0f921"
            ]
           ],
           "sequentialminus": [
            [
             0,
             "#0d0887"
            ],
            [
             0.1111111111111111,
             "#46039f"
            ],
            [
             0.2222222222222222,
             "#7201a8"
            ],
            [
             0.3333333333333333,
             "#9c179e"
            ],
            [
             0.4444444444444444,
             "#bd3786"
            ],
            [
             0.5555555555555556,
             "#d8576b"
            ],
            [
             0.6666666666666666,
             "#ed7953"
            ],
            [
             0.7777777777777778,
             "#fb9f3a"
            ],
            [
             0.8888888888888888,
             "#fdca26"
            ],
            [
             1,
             "#f0f921"
            ]
           ]
          },
          "colorway": [
           "#636efa",
           "#EF553B",
           "#00cc96",
           "#ab63fa",
           "#FFA15A",
           "#19d3f3",
           "#FF6692",
           "#B6E880",
           "#FF97FF",
           "#FECB52"
          ],
          "font": {
           "color": "#2a3f5f"
          },
          "geo": {
           "bgcolor": "white",
           "lakecolor": "white",
           "landcolor": "#E5ECF6",
           "showlakes": true,
           "showland": true,
           "subunitcolor": "white"
          },
          "hoverlabel": {
           "align": "left"
          },
          "hovermode": "closest",
          "mapbox": {
           "style": "light"
          },
          "paper_bgcolor": "white",
          "plot_bgcolor": "#E5ECF6",
          "polar": {
           "angularaxis": {
            "gridcolor": "white",
            "linecolor": "white",
            "ticks": ""
           },
           "bgcolor": "#E5ECF6",
           "radialaxis": {
            "gridcolor": "white",
            "linecolor": "white",
            "ticks": ""
           }
          },
          "scene": {
           "xaxis": {
            "backgroundcolor": "#E5ECF6",
            "gridcolor": "white",
            "gridwidth": 2,
            "linecolor": "white",
            "showbackground": true,
            "ticks": "",
            "zerolinecolor": "white"
           },
           "yaxis": {
            "backgroundcolor": "#E5ECF6",
            "gridcolor": "white",
            "gridwidth": 2,
            "linecolor": "white",
            "showbackground": true,
            "ticks": "",
            "zerolinecolor": "white"
           },
           "zaxis": {
            "backgroundcolor": "#E5ECF6",
            "gridcolor": "white",
            "gridwidth": 2,
            "linecolor": "white",
            "showbackground": true,
            "ticks": "",
            "zerolinecolor": "white"
           }
          },
          "shapedefaults": {
           "line": {
            "color": "#2a3f5f"
           }
          },
          "ternary": {
           "aaxis": {
            "gridcolor": "white",
            "linecolor": "white",
            "ticks": ""
           },
           "baxis": {
            "gridcolor": "white",
            "linecolor": "white",
            "ticks": ""
           },
           "bgcolor": "#E5ECF6",
           "caxis": {
            "gridcolor": "white",
            "linecolor": "white",
            "ticks": ""
           }
          },
          "title": {
           "x": 0.05
          },
          "xaxis": {
           "automargin": true,
           "gridcolor": "white",
           "linecolor": "white",
           "ticks": "",
           "title": {
            "standoff": 15
           },
           "zerolinecolor": "white",
           "zerolinewidth": 2
          },
          "yaxis": {
           "automargin": true,
           "gridcolor": "white",
           "linecolor": "white",
           "ticks": "",
           "title": {
            "standoff": 15
           },
           "zerolinecolor": "white",
           "zerolinewidth": 2
          }
         }
        },
        "title": {
         "text": "Satellite Image Acquisition Dates from 2022-01-01 to 2022-12-31"
        },
        "xaxis": {
         "anchor": "y",
         "domain": [
          0,
          1
         ],
         "tickangle": -45,
         "title": {
          "text": "Date"
         }
        },
        "yaxis": {
         "anchor": "x",
         "categoryarray": [
          "Landsat-9",
          "Landsat-8",
          "Sentinel-2",
          "Sentinel-1"
         ],
         "categoryorder": "array",
         "domain": [
          0,
          1
         ],
         "title": {
          "text": "Satellite"
         }
        }
       }
      }
     },
     "metadata": {},
     "output_type": "display_data"
    }
   ],
   "source": [
    "import ee\n",
    "ee.Initialize()\n",
    "\n",
    "# set start and end dates, and area of interest\n",
    "startDate = '2022-01-01'\n",
    "endDate = '2022-12-31'\n",
    "\n",
    "aoi = ee.Geometry.Polygon(\n",
    "        [[[66.88941530162356, 24.924689000727422],\n",
    "          [66.88941530162356, 24.760188615642406],\n",
    "          [67.14484743052981, 24.760188615642406],\n",
    "          [67.14484743052981, 24.924689000727422]]])\n",
    "\n",
    "\n",
    "\n",
    "\n",
    "img_acq_dates(startDate, endDate, aoi, export=True, s1=True, s2=True, l8=True, l9=True)"
   ]
  },
  {
   "cell_type": "code",
   "execution_count": 7,
   "metadata": {},
   "outputs": [
    {
     "name": "stdout",
     "output_type": "stream",
     "text": [
      "\n",
      "    Generates a chart of the availability of images in a collection.\t\n",
      "    \n",
      "    ...\n",
      "    \n",
      "    Args:\n",
      "    ----------\n",
      "        startDate: The start date of the image collection. Format: YYYY-MM-DD\n",
      "        endDate: The end date of the image collection. Format: YYYY-MM-DD\n",
      "        aoi: The area of interest.\n",
      "        export: If True, exports the plotly figure as html and png.\n",
      "        s1: If True, includes Sentinel-1 in the plot.\n",
      "        s2: If True, includes Sentinel-2 in the plot.\n",
      "        l8: If True, includes Landsat-8 in the plot.\n",
      "        l9: If True, includes Landsat-9 in the plot.\n",
      "    \n",
      "    Package Requirements:\n",
      "    ---------------------\n",
      "        ee, geemap, matplotlib, seaborn, pandas, numpy, plotly\n",
      "    Returns:\n",
      "    ----------\n",
      "        A chart of the availability of images in a collection.\n",
      "        Exported as an interactive HTML file, png, and data csv.\n",
      "\n",
      "    Note:\n",
      "    1)  To export plotly plot as png, kaleido package is required.\n",
      "        currently (22-07-2021) kaleido version 0.1.0.post1 is the only version that works with plotly. The newer version has bug, so we need to install the older version.\n",
      "        The code to downgrade and install working version is already included in the code.\n",
      "        \n",
      "    \n",
      "    2)  User need to authenticate their google account to access Google Earth Engine.\n",
      "        To authenticate, uncomment the ee.Authenticate() line and run the code.\n",
      "\n",
      "    \n"
     ]
    }
   ],
   "source": [
    "print(img_acq_dates.__doc__)"
   ]
  }
 ],
 "metadata": {
  "kernelspec": {
   "display_name": "geo",
   "language": "python",
   "name": "python3"
  },
  "language_info": {
   "codemirror_mode": {
    "name": "ipython",
    "version": 3
   },
   "file_extension": ".py",
   "mimetype": "text/x-python",
   "name": "python",
   "nbconvert_exporter": "python",
   "pygments_lexer": "ipython3",
   "version": "3.10.12"
  },
  "orig_nbformat": 4
 },
 "nbformat": 4,
 "nbformat_minor": 2
}
